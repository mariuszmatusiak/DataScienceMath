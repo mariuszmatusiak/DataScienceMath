{
 "cells": [
  {
   "cell_type": "code",
   "execution_count": 1,
   "metadata": {},
   "outputs": [
    {
     "name": "stdout",
     "output_type": "stream",
     "text": [
      "2.16.1\n"
     ]
    }
   ],
   "source": [
    "import tensorflow as tf\n",
    "print(tf.__version__)"
   ]
  },
  {
   "cell_type": "code",
   "execution_count": 2,
   "metadata": {},
   "outputs": [
    {
     "name": "stdout",
     "output_type": "stream",
     "text": [
      "Downloading data from https://storage.googleapis.com/tensorflow/tf-keras-datasets/mnist.npz\n",
      "\u001b[1m11490434/11490434\u001b[0m \u001b[32m━━━━━━━━━━━━━━━━━━━━\u001b[0m\u001b[37m\u001b[0m \u001b[1m1s\u001b[0m 0us/step\n"
     ]
    }
   ],
   "source": [
    "#importing mnist dataset\n",
    "mnist = tf.keras.datasets.mnist\n",
    "(x_train, y_train), (x_test, y_test) = mnist.load_data()\n",
    "# Rescaling\n",
    "MAX_PIXELS = 255.0\n",
    "x_train, x_test = x_train / MAX_PIXELS, x_test / MAX_PIXELS"
   ]
  },
  {
   "cell_type": "code",
   "execution_count": null,
   "metadata": {},
   "outputs": [],
   "source": [
    "#Build an ML model\n",
    "model = tf.keras.models.Sequential([\n",
    "    tf.keras.layers.Flatten(in)\n",
    "])"
   ]
  },
  {
   "cell_type": "code",
   "execution_count": 6,
   "metadata": {},
   "outputs": [
    {
     "name": "stdout",
     "output_type": "stream",
     "text": [
      "        col1\n",
      "0  a   b   c\n"
     ]
    }
   ],
   "source": [
    "# importing csv using pandas\n",
    "import pandas as pd\n",
    "filepath = 'data.csv'\n",
    "data = pd.read_csv(\n",
    "    filepath, \n",
    "    sep='\\t', #or space-separated with delim_whitespace=True\n",
    "    header=None, #contains header?\n",
    "    names=['col1'], # select columns\n",
    "    na_values=['NA', 99]) #define NAN values\n",
    "print(data.iloc[:5])"
   ]
  },
  {
   "cell_type": "code",
   "execution_count": 10,
   "metadata": {},
   "outputs": [],
   "source": [
    "# importing json using pandas\n",
    "import pandas as pd\n",
    "filepath = 'data.json'\n",
    "data = pd.read_json(filepath)\n",
    "data.to_json('out.json')"
   ]
  },
  {
   "cell_type": "code",
   "execution_count": 11,
   "metadata": {},
   "outputs": [
    {
     "name": "stdout",
     "output_type": "stream",
     "text": [
      "     0    1            2       3      4     5            6    7      8   \\\n",
      "0     3    ?  alfa-romero     gas    std   two  convertible  rwd  front   \n",
      "1     3    ?  alfa-romero     gas    std   two  convertible  rwd  front   \n",
      "2     1    ?  alfa-romero     gas    std   two    hatchback  rwd  front   \n",
      "3     2  164         audi     gas    std  four        sedan  fwd  front   \n",
      "4     2  164         audi     gas    std  four        sedan  4wd  front   \n",
      "..   ..  ...          ...     ...    ...   ...          ...  ...    ...   \n",
      "200  -1   95        volvo     gas    std  four        sedan  rwd  front   \n",
      "201  -1   95        volvo     gas  turbo  four        sedan  rwd  front   \n",
      "202  -1   95        volvo     gas    std  four        sedan  rwd  front   \n",
      "203  -1   95        volvo  diesel  turbo  four        sedan  rwd  front   \n",
      "204  -1   95        volvo     gas  turbo  four        sedan  rwd  front   \n",
      "\n",
      "        9   ...   16    17    18    19    20   21    22  23  24     25  \n",
      "0     88.6  ...  130  mpfi  3.47  2.68   9.0  111  5000  21  27  13495  \n",
      "1     88.6  ...  130  mpfi  3.47  2.68   9.0  111  5000  21  27  16500  \n",
      "2     94.5  ...  152  mpfi  2.68  3.47   9.0  154  5000  19  26  16500  \n",
      "3     99.8  ...  109  mpfi  3.19  3.40  10.0  102  5500  24  30  13950  \n",
      "4     99.4  ...  136  mpfi  3.19  3.40   8.0  115  5500  18  22  17450  \n",
      "..     ...  ...  ...   ...   ...   ...   ...  ...   ...  ..  ..    ...  \n",
      "200  109.1  ...  141  mpfi  3.78  3.15   9.5  114  5400  23  28  16845  \n",
      "201  109.1  ...  141  mpfi  3.78  3.15   8.7  160  5300  19  25  19045  \n",
      "202  109.1  ...  173  mpfi  3.58  2.87   8.8  134  5500  18  23  21485  \n",
      "203  109.1  ...  145   idi  3.01  3.40  23.0  106  4800  26  27  22470  \n",
      "204  109.1  ...  141  mpfi  3.78  3.15   9.5  114  5400  19  25  22625  \n",
      "\n",
      "[205 rows x 26 columns]\n"
     ]
    }
   ],
   "source": [
    "#importing data from url using pandas\n",
    "import pandas as pd\n",
    "data_url = 'http://archive.ics.uci.edu/ml/machine-learning-databases/autos/imports-85.data'\n",
    "df = pd.read_csv(data_url, header=None)\n",
    "print(df)"
   ]
  }
 ],
 "metadata": {
  "kernelspec": {
   "display_name": "tf",
   "language": "python",
   "name": "python3"
  },
  "language_info": {
   "codemirror_mode": {
    "name": "ipython",
    "version": 3
   },
   "file_extension": ".py",
   "mimetype": "text/x-python",
   "name": "python",
   "nbconvert_exporter": "python",
   "pygments_lexer": "ipython3",
   "version": "3.12.3"
  }
 },
 "nbformat": 4,
 "nbformat_minor": 2
}
